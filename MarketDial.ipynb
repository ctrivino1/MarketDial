{
  "nbformat": 4,
  "nbformat_minor": 0,
  "metadata": {
    "colab": {
      "private_outputs": true,
      "provenance": [],
      "authorship_tag": "ABX9TyPYaU+XpGqiZ0/nIQs0/1ZG",
      "include_colab_link": true
    },
    "kernelspec": {
      "name": "python3",
      "display_name": "Python 3"
    },
    "language_info": {
      "name": "python"
    }
  },
  "cells": [
    {
      "cell_type": "markdown",
      "metadata": {
        "id": "view-in-github",
        "colab_type": "text"
      },
      "source": [
        "<a href=\"https://colab.research.google.com/github/ctrivino1/MarketDial/blob/main/MarketDial.ipynb\" target=\"_parent\"><img src=\"https://colab.research.google.com/assets/colab-badge.svg\" alt=\"Open In Colab\"/></a>"
      ]
    },
    {
      "cell_type": "code",
      "execution_count": null,
      "metadata": {
        "id": "31mhQe-o3zoR"
      },
      "outputs": [],
      "source": [
        "! git clone https://github.com/ctrivino1/MarketDial.git"
      ]
    },
    {
      "cell_type": "code",
      "source": [
        "! pip install pyforest\n",
        "import pyforest"
      ],
      "metadata": {
        "id": "4zNDfJnK4AMu"
      },
      "execution_count": null,
      "outputs": []
    },
    {
      "cell_type": "markdown",
      "source": [
        "# Import the data"
      ],
      "metadata": {
        "id": "yEavC_Qc7n52"
      }
    },
    {
      "cell_type": "code",
      "source": [
        "prod_of_interest = pd.read_csv(\"/content/MarketDial/marketdial_ds_takehome/products_of_interest.csv\",header=None)\n",
        "prod_of_interest.rename(columns = {0: \"Product\"},inplace=True)\n",
        "\n",
        "q3_control_stores = pd.read_csv(\"/content/MarketDial/marketdial_ds_takehome/q3_control_stores.csv\",header=None)\n",
        "q3_control_stores.rename(columns = {0: \"control_store\"},inplace=True)\n",
        "\n",
        "q3_treatment_stores = pd.read_csv(\"/content/MarketDial/marketdial_ds_takehome/q3_treatment_stores.csv\",header=None)\n",
        "q3_treatment_stores.rename(columns = {0: \"treatment_store\"},inplace=True)\n",
        "\n",
        "store_attributes = pd.read_csv(\"/content/MarketDial/marketdial_ds_takehome/store_attributes.csv\",index_col=0)\n",
        "\n",
        "transactions = pd.read_csv(\"/content/MarketDial/marketdial_ds_takehome/transactions.csv\",index_col=0)"
      ],
      "metadata": {
        "id": "dnomQ15s45I7"
      },
      "execution_count": null,
      "outputs": []
    },
    {
      "cell_type": "code",
      "source": [
        "prod_of_interest.head()"
      ],
      "metadata": {
        "id": "1hNpatAu7zHf"
      },
      "execution_count": null,
      "outputs": []
    },
    {
      "cell_type": "code",
      "source": [
        "q3_control_stores.head()"
      ],
      "metadata": {
        "id": "gQudwYsH8Ssb"
      },
      "execution_count": null,
      "outputs": []
    },
    {
      "cell_type": "code",
      "source": [
        "q3_treatment_stores.head()"
      ],
      "metadata": {
        "id": "Admccx_h8VAZ"
      },
      "execution_count": null,
      "outputs": []
    },
    {
      "cell_type": "code",
      "source": [
        "store_attributes.head()"
      ],
      "metadata": {
        "id": "u390qj5p8WzX"
      },
      "execution_count": null,
      "outputs": []
    },
    {
      "cell_type": "code",
      "source": [
        "transactions.head()"
      ],
      "metadata": {
        "id": "Dv9oLDn68b9S"
      },
      "execution_count": null,
      "outputs": []
    },
    {
      "cell_type": "code",
      "source": [],
      "metadata": {
        "id": "1pBFOWBw8hKm"
      },
      "execution_count": null,
      "outputs": []
    }
  ]
}