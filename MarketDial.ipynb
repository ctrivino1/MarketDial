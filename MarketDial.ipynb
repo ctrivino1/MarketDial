{
  "nbformat": 4,
  "nbformat_minor": 0,
  "metadata": {
    "colab": {
      "private_outputs": true,
      "provenance": [],
      "authorship_tag": "ABX9TyNAt5bQBm0vpjavGosJakhO",
      "include_colab_link": true
    },
    "kernelspec": {
      "name": "python3",
      "display_name": "Python 3"
    },
    "language_info": {
      "name": "python"
    }
  },
  "cells": [
    {
      "cell_type": "markdown",
      "metadata": {
        "id": "view-in-github",
        "colab_type": "text"
      },
      "source": [
        "<a href=\"https://colab.research.google.com/github/ctrivino1/MarketDial/blob/main/MarketDial.ipynb\" target=\"_parent\"><img src=\"https://colab.research.google.com/assets/colab-badge.svg\" alt=\"Open In Colab\"/></a>"
      ]
    },
    {
      "cell_type": "markdown",
      "source": [
        "# Data Exploration"
      ],
      "metadata": {
        "id": "9qWEDYg4GYis"
      }
    },
    {
      "cell_type": "code",
      "execution_count": null,
      "metadata": {
        "id": "31mhQe-o3zoR"
      },
      "outputs": [],
      "source": [
        "! git clone https://github.com/ctrivino1/MarketDial.git"
      ]
    },
    {
      "cell_type": "code",
      "source": [
        "! pip install pyforest\n",
        "import pyforest"
      ],
      "metadata": {
        "id": "4zNDfJnK4AMu"
      },
      "execution_count": null,
      "outputs": []
    },
    {
      "cell_type": "markdown",
      "source": [
        "# Import the data"
      ],
      "metadata": {
        "id": "yEavC_Qc7n52"
      }
    },
    {
      "cell_type": "code",
      "source": [
        "prod_of_interest = pd.read_csv(\"/content/MarketDial/marketdial_ds_takehome/products_of_interest.csv\",header=None)\n",
        "prod_of_interest.rename(columns = {0: \"Product\"},inplace=True)\n",
        "\n",
        "q3_control_stores = pd.read_csv(\"/content/MarketDial/marketdial_ds_takehome/q3_control_stores.csv\",header=None)\n",
        "q3_control_stores.rename(columns = {0: \"control_store\"},inplace=True)\n",
        "\n",
        "q3_treatment_stores = pd.read_csv(\"/content/MarketDial/marketdial_ds_takehome/q3_treatment_stores.csv\",header=None)\n",
        "q3_treatment_stores.rename(columns = {0: \"treatment_store\"},inplace=True)\n",
        "\n",
        "store_attributes = pd.read_csv(\"/content/MarketDial/marketdial_ds_takehome/store_attributes.csv\",index_col=0)\n",
        "\n",
        "transactions = pd.read_csv(\"/content/MarketDial/marketdial_ds_takehome/transactions.csv\",index_col=0)"
      ],
      "metadata": {
        "id": "dnomQ15s45I7"
      },
      "execution_count": null,
      "outputs": []
    },
    {
      "cell_type": "code",
      "source": [
        "prod_of_interest.head()"
      ],
      "metadata": {
        "id": "1hNpatAu7zHf"
      },
      "execution_count": null,
      "outputs": []
    },
    {
      "cell_type": "code",
      "source": [
        "q3_control_stores.head()"
      ],
      "metadata": {
        "id": "gQudwYsH8Ssb"
      },
      "execution_count": null,
      "outputs": []
    },
    {
      "cell_type": "code",
      "source": [
        "q3_treatment_stores.head()"
      ],
      "metadata": {
        "id": "Admccx_h8VAZ"
      },
      "execution_count": null,
      "outputs": []
    },
    {
      "cell_type": "code",
      "source": [
        "store_attributes.head()"
      ],
      "metadata": {
        "id": "u390qj5p8WzX"
      },
      "execution_count": null,
      "outputs": []
    },
    {
      "cell_type": "code",
      "source": [
        "transactions.head()"
      ],
      "metadata": {
        "id": "Dv9oLDn68b9S"
      },
      "execution_count": null,
      "outputs": []
    },
    {
      "cell_type": "markdown",
      "source": [
        "# \"Store_Attributes\" Missing values"
      ],
      "metadata": {
        "id": "h32TMrEOBhVM"
      }
    },
    {
      "cell_type": "code",
      "source": [
        "store_attributes.isna().sum()"
      ],
      "metadata": {
        "id": "t-tY_KtVB2Zu"
      },
      "execution_count": null,
      "outputs": []
    },
    {
      "cell_type": "code",
      "source": [
        "store_attributes.isna().sum().reset_index(name=\"n\").plot.bar(x='index', y='n', rot=45)"
      ],
      "metadata": {
        "id": "1pBFOWBw8hKm"
      },
      "execution_count": null,
      "outputs": []
    },
    {
      "cell_type": "code",
      "source": [
        "store_attributes[~store_attributes['attribute_int_val'].isnull()].head()"
      ],
      "metadata": {
        "id": "bTcvMBLiBl8j"
      },
      "execution_count": null,
      "outputs": []
    },
    {
      "cell_type": "code",
      "source": [
        "store_attributes[~store_attributes['attribute_str_val'].isnull()].head()"
      ],
      "metadata": {
        "id": "h9sYrX6HCm5P"
      },
      "execution_count": null,
      "outputs": []
    },
    {
      "cell_type": "markdown",
      "source": [
        "# \"Transactions\" missing values"
      ],
      "metadata": {
        "id": "8CDa2S6yDuI1"
      }
    },
    {
      "cell_type": "code",
      "source": [
        "transactions.isna().sum()"
      ],
      "metadata": {
        "id": "2xCnDpi2DtTg"
      },
      "execution_count": null,
      "outputs": []
    },
    {
      "cell_type": "markdown",
      "source": [
        "# Question 1\n",
        "Outline, in words, the steps of an experiment, from start to finish, to detect whether putting up new displays for\n",
        "Brand Z's candy will result in an increase in revenue from Brand Z's candy. Suppose your audience for this\n",
        "outline is the client, who has some general statistical understanding (i.e. you don't need to get into the weeds of\n",
        "any techniques/algorithms), but is looking to understand more thoroughly how this experiment will be set up\n",
        "and analyzed from enlisted help-- you, the expert data scientist."
      ],
      "metadata": {
        "id": "C5zfl4IaGfiP"
      }
    },
    {
      "cell_type": "markdown",
      "source": [
        "A.1: \n",
        "\n",
        "# Step 1: Pick a location \n",
        "  Things to Consider: \n",
        "\n",
        "  *   Audience Demographics\n",
        "  *   Number of people that pass the display per day.\n",
        "  *   Number of people that could see your display per day.\n",
        "  *   Stores that are near locations such as: schools,businesses,etc\n",
        "\n",
        "# Step 2: \n",
        "  \n",
        "\n"
      ],
      "metadata": {
        "id": "OxM9hHmkG92l"
      }
    },
    {
      "cell_type": "code",
      "source": [],
      "metadata": {
        "id": "yZPKTHoRG8b3"
      },
      "execution_count": null,
      "outputs": []
    }
  ]
}