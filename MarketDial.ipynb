{
  "nbformat": 4,
  "nbformat_minor": 0,
  "metadata": {
    "colab": {
      "private_outputs": true,
      "provenance": [],
      "authorship_tag": "ABX9TyMH4WWfK1qYJIokZB9gNBay",
      "include_colab_link": true
    },
    "kernelspec": {
      "name": "python3",
      "display_name": "Python 3"
    },
    "language_info": {
      "name": "python"
    }
  },
  "cells": [
    {
      "cell_type": "markdown",
      "metadata": {
        "id": "view-in-github",
        "colab_type": "text"
      },
      "source": [
        "<a href=\"https://colab.research.google.com/github/ctrivino1/MarketDial/blob/main/MarketDial.ipynb\" target=\"_parent\"><img src=\"https://colab.research.google.com/assets/colab-badge.svg\" alt=\"Open In Colab\"/></a>"
      ]
    },
    {
      "cell_type": "markdown",
      "source": [
        "# Data Exploration"
      ],
      "metadata": {
        "id": "9qWEDYg4GYis"
      }
    },
    {
      "cell_type": "code",
      "execution_count": null,
      "metadata": {
        "id": "31mhQe-o3zoR"
      },
      "outputs": [],
      "source": [
        "! git clone https://github.com/ctrivino1/MarketDial.git"
      ]
    },
    {
      "cell_type": "code",
      "source": [
        "! pip install pyforest\n",
        "import pyforest"
      ],
      "metadata": {
        "id": "4zNDfJnK4AMu"
      },
      "execution_count": null,
      "outputs": []
    },
    {
      "cell_type": "markdown",
      "source": [
        "# Import the data"
      ],
      "metadata": {
        "id": "yEavC_Qc7n52"
      }
    },
    {
      "cell_type": "code",
      "source": [
        "prod_of_interest = pd.read_csv(\"/content/MarketDial/marketdial_ds_takehome/products_of_interest.csv\",header=None)\n",
        "prod_of_interest.rename(columns = {0: \"Product\"},inplace=True)\n",
        "\n",
        "q3_control_stores = pd.read_csv(\"/content/MarketDial/marketdial_ds_takehome/q3_control_stores.csv\",header=None)\n",
        "q3_control_stores.rename(columns = {0: \"control_store\"},inplace=True)\n",
        "\n",
        "q3_treatment_stores = pd.read_csv(\"/content/MarketDial/marketdial_ds_takehome/q3_treatment_stores.csv\",header=None)\n",
        "q3_treatment_stores.rename(columns = {0: \"treatment_store\"},inplace=True)\n",
        "\n",
        "store_attributes = pd.read_csv(\"/content/MarketDial/marketdial_ds_takehome/store_attributes.csv\",index_col=0)\n",
        "\n",
        "transactions = pd.read_csv(\"/content/MarketDial/marketdial_ds_takehome/transactions.csv\",index_col=0)"
      ],
      "metadata": {
        "id": "dnomQ15s45I7"
      },
      "execution_count": null,
      "outputs": []
    },
    {
      "cell_type": "code",
      "source": [
        "prod_of_interest.head()"
      ],
      "metadata": {
        "id": "1hNpatAu7zHf"
      },
      "execution_count": null,
      "outputs": []
    },
    {
      "cell_type": "code",
      "source": [
        "q3_control_stores.head()"
      ],
      "metadata": {
        "id": "gQudwYsH8Ssb"
      },
      "execution_count": null,
      "outputs": []
    },
    {
      "cell_type": "code",
      "source": [
        "q3_treatment_stores.head()"
      ],
      "metadata": {
        "id": "Admccx_h8VAZ"
      },
      "execution_count": null,
      "outputs": []
    },
    {
      "cell_type": "code",
      "source": [
        "store_attributes.head()"
      ],
      "metadata": {
        "id": "u390qj5p8WzX"
      },
      "execution_count": null,
      "outputs": []
    },
    {
      "cell_type": "code",
      "source": [
        "store_attributes.query(\"store_id == 501\").sort_values(by=\"attribute_id\").head(50)"
      ],
      "metadata": {
        "id": "s2LC20XApgR_"
      },
      "execution_count": null,
      "outputs": []
    },
    {
      "cell_type": "code",
      "source": [
        "store_attributes.query(\"store_id == 631\").sort_values(by=\"attribute_id\").head(50)"
      ],
      "metadata": {
        "id": "FH8YKe7LnUyM"
      },
      "execution_count": null,
      "outputs": []
    },
    {
      "cell_type": "code",
      "source": [
        "store_attributes[store_attributes.attribute_id == 9].attribute_str_val.value_counts()"
      ],
      "metadata": {
        "id": "cqUY5FUVFXWQ"
      },
      "execution_count": null,
      "outputs": []
    },
    {
      "cell_type": "code",
      "source": [
        "store_attributes[store_attributes.attribute_id == 15].attribute_str_val.value_counts()"
      ],
      "metadata": {
        "id": "SVsJ__xNxtnF"
      },
      "execution_count": null,
      "outputs": []
    },
    {
      "cell_type": "code",
      "source": [
        "store_attributes[store_attributes.attribute_id == 36].attribute_str_val.value_counts()"
      ],
      "metadata": {
        "id": "Iy4WB9mHx5HT"
      },
      "execution_count": null,
      "outputs": []
    },
    {
      "cell_type": "code",
      "source": [
        "store_attributes[store_attributes.attribute_id == 51].attribute_str_val.value_counts()"
      ],
      "metadata": {
        "id": "dvCWuJfK6ph6"
      },
      "execution_count": null,
      "outputs": []
    },
    {
      "cell_type": "code",
      "source": [
        "store_attributes[store_attributes.attribute_id == 36].attribute_str_val.value_counts()"
      ],
      "metadata": {
        "id": "hdXAVUGT605A"
      },
      "execution_count": null,
      "outputs": []
    },
    {
      "cell_type": "code",
      "source": [
        "store_attributes[store_attributes.attribute_id == 9].attribute_str_val.value_counts(normalize=True)\n",
        "\n",
        "# make sure proportions are representative\n",
        "# pick random using these percentages"
      ],
      "metadata": {
        "id": "BvGmrf3FoL3V"
      },
      "execution_count": null,
      "outputs": []
    },
    {
      "cell_type": "code",
      "source": [
        "len(store_attributes.store_id.unique())"
      ],
      "metadata": {
        "id": "tPj5V8wN4fCm"
      },
      "execution_count": null,
      "outputs": []
    },
    {
      "cell_type": "code",
      "source": [
        "# percentage sampling based on attribute 9 \n",
        "pop = store_attributes[store_attributes.attribute_id == 9]\n",
        "\n",
        "print(len(pop.store_id.unique()))\n",
        "pop.head()"
      ],
      "metadata": {
        "id": "1nVLyQCA4RKX"
      },
      "execution_count": null,
      "outputs": []
    },
    {
      "cell_type": "code",
      "source": [
        "# seperate 50% of data based on attribute_str_val\n",
        "control = pop.groupby('attribute_str_val', group_keys=False).apply(lambda x: x.sample(frac=0.05,random_state=69))\n",
        "control.attribute_str_val.value_counts(normalize=True)\n",
        "\n",
        "\n",
        "\n",
        "\n",
        "\n",
        "\n"
      ],
      "metadata": {
        "id": "vOAwQCkN4vRW"
      },
      "execution_count": null,
      "outputs": []
    },
    {
      "cell_type": "code",
      "source": [
        "print(len(control))\n",
        "\n",
        "\n",
        "control.sort_values(by=\"store_id\").head()"
      ],
      "metadata": {
        "id": "uL_grdpN66mP"
      },
      "execution_count": null,
      "outputs": []
    },
    {
      "cell_type": "code",
      "source": [
        "##save the control_id's\n",
        "# control.to_csv('control_ids.csv')\n",
        "# from google.colab import files\n",
        "# files.download(\"control_ids.csv\")"
      ],
      "metadata": {
        "id": "vkXZpdcZ4PfS"
      },
      "execution_count": null,
      "outputs": []
    },
    {
      "cell_type": "code",
      "source": [
        "# seperate 50% of data based on attribute_str_val\n",
        "\n",
        "treatment = pop.groupby('attribute_str_val', group_keys=False).apply(lambda x: x.sample(frac=0.05,random_state=73))\n",
        "treatment.attribute_str_val.value_counts(normalize=True)\n",
        "\n",
        "\n",
        "\n",
        "\n",
        "\n"
      ],
      "metadata": {
        "id": "G67Vg5cSoz-r"
      },
      "execution_count": null,
      "outputs": []
    },
    {
      "cell_type": "code",
      "source": [
        "(set(control.store_id.tolist()) & set(treatment.store_id.tolist()))\n",
        "\n",
        "# the control and treatment groups have different store id's!"
      ],
      "metadata": {
        "id": "h9a7HRLQswry"
      },
      "execution_count": null,
      "outputs": []
    },
    {
      "cell_type": "code",
      "source": [
        "\"\"\"control_list = np.array(control.store_id)\n",
        "\n",
        "mask = pop.store_id.isin(control_list)\n",
        "\n",
        "# create treatment group that is not in the store_id's of the control group\n",
        "\n",
        "treatment = pop.loc[~mask]\n",
        "\n",
        "print(len(treatment))\n",
        "treatment.sort_values(by=\"store_id\").head()\n",
        "\"\"\""
      ],
      "metadata": {
        "id": "RC2THCzc5ghg"
      },
      "execution_count": null,
      "outputs": []
    },
    {
      "cell_type": "code",
      "source": [
        "treatment.attribute_str_val.value_counts(normalize=True)"
      ],
      "metadata": {
        "id": "LiMLl9Es7ETs"
      },
      "execution_count": null,
      "outputs": []
    },
    {
      "cell_type": "code",
      "source": [
        "#treatment.to_csv('treatment_ids.csv')\n",
        "#from google.colab import files\n",
        "#files.download(\"treatment_ids.csv\")"
      ],
      "metadata": {
        "id": "vIUE0kxU4jMc"
      },
      "execution_count": null,
      "outputs": []
    },
    {
      "cell_type": "code",
      "source": [
        "## using stratify sampling based on attribute 15,9\n",
        "lst = np.array([9,15])\n",
        "rslt_df = store_attributes[store_attributes['attribute_id'].isin(lst)].drop([\"attribute_int_val\",\"attribute_float_val\"],axis=1)\n",
        "\n",
        "#rslt_df_2 = store_attributes.pivot(index=\"store_id\",columns=\"attribute_type\",values=\"attribute_str_val\")\n",
        "\n",
        "df = rslt_df.groupby('store_id')['attribute_id'].apply(lambda x: ','.join(x.astype(str))).reset_index()\n",
        "\n",
        "rslt_df.head()\n",
        "\n"
      ],
      "metadata": {
        "id": "2MVIMVXCxBqb"
      },
      "execution_count": null,
      "outputs": []
    },
    {
      "cell_type": "code",
      "source": [
        "## continuation of pivot\n",
        "x = rslt_df.groupby('store_id')['attribute_str_val'] \\\n",
        "      .apply(lambda x: pd.DataFrame(x.values.tolist(),\n",
        "             columns=['attribute_id'])) \\\n",
        "      .unstack()\n",
        "x.columns = ['{0[0]}_{0[1]}'.format(tup) for tup in x.columns]\n",
        "df = pd.DataFrame(x).reset_index(level=0)\n",
        "print(df.columns)\n",
        "\n",
        "df = df.rename({\"attribute_id_0\":\"attribute_15\",\"attribute_id_1\":\"attribute_9\"},axis=1)\n",
        "print(len(df))\n",
        "df.head()\n",
        "\n"
      ],
      "metadata": {
        "id": "LSOMaD9SKDcy"
      },
      "execution_count": null,
      "outputs": []
    },
    {
      "cell_type": "code",
      "source": [
        "## stratify by attributes\n",
        "\n",
        "## sklearn would not work because I had samples where there was only N=1\n",
        "train, test = train_test_split(df, test_size=0.1, random_state=0, stratify=df['attribute_9'])\n"
      ],
      "metadata": {
        "id": "vgfgUrkdLrRk"
      },
      "execution_count": null,
      "outputs": []
    },
    {
      "cell_type": "code",
      "source": [
        "168 + 169"
      ],
      "metadata": {
        "id": "oOUUzvUw7ONP"
      },
      "execution_count": null,
      "outputs": []
    },
    {
      "cell_type": "code",
      "source": [
        "transactions.head()"
      ],
      "metadata": {
        "id": "Dv9oLDn68b9S"
      },
      "execution_count": null,
      "outputs": []
    },
    {
      "cell_type": "code",
      "source": [
        "# make sure treatment/control store_ids are not the same\n",
        "set(control.store_id).intersection(treatment.store_id)"
      ],
      "metadata": {
        "id": "R0Fewtbc5etl"
      },
      "execution_count": null,
      "outputs": []
    },
    {
      "cell_type": "markdown",
      "source": [
        "# \"Store_Attributes\" Missing values"
      ],
      "metadata": {
        "id": "h32TMrEOBhVM"
      }
    },
    {
      "cell_type": "code",
      "source": [
        "store_attributes.isna().sum()"
      ],
      "metadata": {
        "id": "t-tY_KtVB2Zu"
      },
      "execution_count": null,
      "outputs": []
    },
    {
      "cell_type": "code",
      "source": [
        "store_attributes.isna().sum().reset_index(name=\"n\").plot.bar(x='index', y='n', rot=45)"
      ],
      "metadata": {
        "id": "1pBFOWBw8hKm"
      },
      "execution_count": null,
      "outputs": []
    },
    {
      "cell_type": "code",
      "source": [
        "store_attributes[~store_attributes['attribute_int_val'].isnull()].head()"
      ],
      "metadata": {
        "id": "bTcvMBLiBl8j"
      },
      "execution_count": null,
      "outputs": []
    },
    {
      "cell_type": "code",
      "source": [
        "store_attributes[~store_attributes['attribute_str_val'].isnull()].head()"
      ],
      "metadata": {
        "id": "h9sYrX6HCm5P"
      },
      "execution_count": null,
      "outputs": []
    },
    {
      "cell_type": "markdown",
      "source": [
        "# \"Transactions\" missing values"
      ],
      "metadata": {
        "id": "8CDa2S6yDuI1"
      }
    },
    {
      "cell_type": "code",
      "source": [
        "transactions.isna().sum()"
      ],
      "metadata": {
        "id": "2xCnDpi2DtTg"
      },
      "execution_count": null,
      "outputs": []
    },
    {
      "cell_type": "markdown",
      "source": [
        "# Question 1\n",
        "Outline, in words, the steps of an experiment, from start to finish, to detect whether putting up new displays for\n",
        "Brand Z's candy will result in an increase in revenue from Brand Z's candy. Suppose your audience for this\n",
        "outline is the client, who has some general statistical understanding (i.e. you don't need to get into the weeds of\n",
        "any techniques/algorithms), but is looking to understand more thoroughly how this experiment will be set up\n",
        "and analyzed from enlisted help-- you, the expert data scientist."
      ],
      "metadata": {
        "id": "C5zfl4IaGfiP"
      }
    },
    {
      "cell_type": "markdown",
      "source": [
        "A.1: \n",
        "\n",
        "# Step 1: Pick a location \n",
        "  Things to Consider: \n",
        "\n",
        "  *   Audience Demographics\n",
        "  *   Number of people that pass the display per day.\n",
        "  *   Number of people that could see your display per day.\n",
        "  *   Stores that are near locations such as: schools,businesses,etc\n",
        "\n",
        "# Step 2: \n",
        "  \n",
        "\n"
      ],
      "metadata": {
        "id": "OxM9hHmkG92l"
      }
    },
    {
      "cell_type": "code",
      "source": [],
      "metadata": {
        "id": "yZPKTHoRG8b3"
      },
      "execution_count": null,
      "outputs": []
    }
  ]
}